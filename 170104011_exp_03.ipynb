{
  "nbformat": 4,
  "nbformat_minor": 0,
  "metadata": {
    "colab": {
      "name": "170104011_Exp_03.ipynb",
      "provenance": [],
      "collapsed_sections": []
    },
    "kernelspec": {
      "name": "python3",
      "display_name": "Python 3"
    },
    "language_info": {
      "name": "python"
    }
  },
  "cells": [
    {
      "cell_type": "code",
      "metadata": {
        "id": "HT9i40sMM5lt"
      },
      "source": [
        "import os\n",
        "import pandas as pd\n",
        "import torch\n",
        "from torch.utils.data import Dataset, DataLoader  \n",
        "from skimage import io"
      ],
      "execution_count": 2,
      "outputs": []
    },
    {
      "cell_type": "code",
      "metadata": {
        "id": "EvahDt2be8xz"
      },
      "source": [
        "import torch\n",
        "import torch.nn as nn\n",
        "import torchvision.transforms as transforms"
      ],
      "execution_count": 3,
      "outputs": []
    },
    {
      "cell_type": "code",
      "metadata": {
        "id": "USeZSXxquQUZ"
      },
      "source": [
        ""
      ],
      "execution_count": null,
      "outputs": []
    },
    {
      "cell_type": "code",
      "metadata": {
        "colab": {
          "base_uri": "https://localhost:8080/"
        },
        "id": "cjT53blqLYw3",
        "outputId": "3d26d9b5-b744-4153-c1f7-724539858691"
      },
      "source": [
        "from google.colab import drive\n",
        "drive.mount('/content/drive')"
      ],
      "execution_count": 4,
      "outputs": [
        {
          "output_type": "stream",
          "name": "stdout",
          "text": [
            "Mounted at /content/drive\n"
          ]
        }
      ]
    },
    {
      "cell_type": "markdown",
      "metadata": {
        "id": "CdvCkig7I4fY"
      },
      "source": [
        "# Experiment 3"
      ]
    },
    {
      "cell_type": "code",
      "metadata": {
        "colab": {
          "base_uri": "https://localhost:8080/"
        },
        "id": "my-Lx-VJI5zT",
        "outputId": "18142824-8ef7-4c0a-9c13-3296d439660e"
      },
      "source": [
        "!unzip \"/content/drive/MyDrive/Soft Computing/Dataset_2.zip\""
      ],
      "execution_count": 5,
      "outputs": [
        {
          "output_type": "stream",
          "name": "stdout",
          "text": [
            "Archive:  /content/drive/MyDrive/Soft Computing/Dataset_2.zip\n",
            "   creating: Dataset_2/\n",
            "  inflating: Dataset_2/t10k-images-idx3-ubyte  \n",
            "  inflating: Dataset_2/t10k-labels-idx1-ubyte  \n",
            "  inflating: Dataset_2/train-images-idx3-ubyte  \n",
            "  inflating: Dataset_2/train-labels-idx1-ubyte  \n",
            "  inflating: Dataset_2/verification_test.csv  \n",
            "  inflating: Dataset_2/verification_train.csv  \n"
          ]
        }
      ]
    },
    {
      "cell_type": "code",
      "metadata": {
        "id": "WpoWmdLjJLML"
      },
      "source": [
        "train_csv2  = pd.read_csv('/content/Dataset_2/verification_train.csv')\n",
        "test_csv2 = pd.read_csv('/content/Dataset_2/verification_test.csv')"
      ],
      "execution_count": 6,
      "outputs": []
    },
    {
      "cell_type": "code",
      "metadata": {
        "id": "rtmU_CAKJlVN"
      },
      "source": [
        "import numpy as np\n",
        "class second_Dataset(Dataset):\n",
        "    \"\"\"User defined class to build a datset using Pytorch class Dataset.\"\"\"\n",
        "    \n",
        "    def __init__(self, data, transform = None):\n",
        "        \"\"\"Method to initilaize variables.\"\"\" \n",
        "        self.data_MNIST = list(data.values)\n",
        "        self.transform = transform\n",
        "        \n",
        "        label = []\n",
        "        image = []\n",
        "        \n",
        "        for i in self.data_MNIST:\n",
        "             # first column is of labels.\n",
        "            label.append(i[0])\n",
        "            image.append(i[1:])\n",
        "        self.labels = np.asarray(label)\n",
        "        self.images = np.asarray(image).reshape(-1, 28, 28, 1).astype('float32')\n",
        "\n",
        "    def __getitem__(self, index):\n",
        "        label = self.labels[index]\n",
        "        image = self.images[index]\n",
        "        \n",
        "        if self.transform is not None:\n",
        "            image = self.transform(image)\n",
        "\n",
        "        return image, label\n",
        "\n",
        "    def __len__(self):\n",
        "        return len(self.images)"
      ],
      "execution_count": 7,
      "outputs": []
    },
    {
      "cell_type": "code",
      "metadata": {
        "id": "a1jEAEZCKQIU"
      },
      "source": [
        "train_set = second_Dataset(train_csv2, transform=transforms.Compose([transforms.ToTensor()]))\n",
        "test_set = second_Dataset(test_csv2, transform=transforms.Compose([transforms.ToTensor()]))\n",
        "\n",
        "train_loader = DataLoader(train_set, batch_size=100)\n",
        "test_loader = DataLoader(train_set, batch_size=100)"
      ],
      "execution_count": 8,
      "outputs": []
    },
    {
      "cell_type": "markdown",
      "metadata": {
        "id": "OywTz1uCLg_V"
      },
      "source": [
        "For experiment 1"
      ]
    },
    {
      "cell_type": "code",
      "metadata": {
        "id": "zS6BxZFxxtMk"
      },
      "source": [
        ""
      ],
      "execution_count": null,
      "outputs": []
    },
    {
      "cell_type": "code",
      "metadata": {
        "colab": {
          "base_uri": "https://localhost:8080/"
        },
        "id": "Za7FBndHL3HN",
        "outputId": "4792296f-d7c5-4b62-b806-739dca79d3d5"
      },
      "source": [
        "print(len(train_set))\n",
        "print(len(test_set))"
      ],
      "execution_count": 9,
      "outputs": [
        {
          "output_type": "stream",
          "name": "stdout",
          "text": [
            "60000\n",
            "10000\n"
          ]
        }
      ]
    },
    {
      "cell_type": "code",
      "metadata": {
        "colab": {
          "base_uri": "https://localhost:8080/"
        },
        "id": "tdJtSw82MSSB",
        "outputId": "4cb319e6-02f1-47d0-b369-6470e901ed16"
      },
      "source": [
        "# Hyperparameters\n",
        "\n",
        "batch_size = 20\n",
        "num_iters = 20000\n",
        "input_dim = 28*28 # num_features = 784\n",
        "num_hidden = 200 # num of hidden nodes\n",
        "output_dim = 10\n",
        "\n",
        "learning_rate = 0.01  # More power so we can learn faster! previously it was 0.001\n",
        "\n",
        "# Device\n",
        "device = torch.device(\"cuda:0\" if torch.cuda.is_available() else \"cpu\")\n",
        "\n",
        "\n",
        "\n",
        "\n",
        "'''\n",
        "MAKING DATASET ITERABLE\n",
        "'''\n",
        "num_epochs = num_iters / (len(train_set) / batch_size)\n",
        "num_epochs = int(num_epochs)\n",
        "\n",
        "train_loader = torch.utils.data.DataLoader(dataset=train_set, \n",
        "                                           batch_size=batch_size, \n",
        "                                           shuffle=True)   # It's better to shuffle the whole training dataset! \n",
        "\n",
        "test_loader = torch.utils.data.DataLoader(dataset=test_set, \n",
        "                                          batch_size=batch_size, \n",
        "                                          shuffle=False)\n",
        "\n",
        "\n",
        "\n",
        "\n",
        "\n",
        "class DeepNeuralNetworkModel(nn.Module):\n",
        "    def __init__(self, input_size, num_classes, num_hidden):\n",
        "        super().__init__()\n",
        "        ### 1st hidden layer: 784 --> 100\n",
        "        self.linear_1 = nn.Linear(input_size, num_hidden)\n",
        "        ### Non-linearity in 1st hidden layer\n",
        "        self.relu_1 = nn.ReLU()\n",
        "\n",
        "        ### 2nd hidden layer: 100 --> 100\n",
        "        self.linear_2 = nn.Linear(num_hidden, num_hidden)\n",
        "        ### Non-linearity in 2nd hidden layer\n",
        "        self.relu_2 = nn.ReLU()\n",
        "\n",
        "        ### 3rd hidden layer: 100 --> 100\n",
        "        self.linear_3 = nn.Linear(num_hidden, num_hidden)\n",
        "        ### Non-linearity in 2nd hidden layer\n",
        "        self.relu_3 = nn.ReLU()\n",
        "\n",
        "        ### 4th hidden layer: 100 --> 100\n",
        "        self.linear_4 = nn.Linear(num_hidden, num_hidden)\n",
        "        ### Non-linearity in 2nd hidden layer\n",
        "        self.relu_4 = nn.ReLU()\n",
        "\n",
        "        ### 5th hidden layer: 100 --> 100\n",
        "        self.linear_5 = nn.Linear(num_hidden, num_hidden)\n",
        "        ### Non-linearity in 2nd hidden layer\n",
        "        self.relu_5 = nn.ReLU()\n",
        "\n",
        "        ### 6th hidden layer: 100 --> 100\n",
        "        self.linear_6 = nn.Linear(num_hidden, num_hidden)\n",
        "        ### Non-linearity in 2nd hidden layer\n",
        "        self.relu_6 = nn.ReLU()\n",
        "\n",
        "        ### Output layer: 100 --> 10\n",
        "        self.linear_out = nn.Linear(num_hidden, num_classes)\n",
        "\n",
        "    def forward(self, x):\n",
        "        ### 1st hidden layer\n",
        "        out  = self.linear_1(x)\n",
        "        ### Non-linearity in 1st hidden layer\n",
        "        out = self.relu_1(out)\n",
        "        \n",
        "        ### 2nd hidden layer\n",
        "        out  = self.linear_2(out)\n",
        "        ### Non-linearity in 2nd hidden layer\n",
        "        out = self.relu_2(out)\n",
        "        \n",
        "        ### 3rd hidden layer\n",
        "        out  = self.linear_3(out)\n",
        "        ### Non-linearity in 1st hidden layer\n",
        "        out = self.relu_3(out)\n",
        "        \n",
        "        ### 4th hidden layer\n",
        "        out  = self.linear_4(out)\n",
        "        ### Non-linearity in 2nd hidden layer\n",
        "        out = self.relu_4(out)\n",
        "\n",
        "        ### 5th hidden layer\n",
        "        out  = self.linear_5(out)\n",
        "        ### Non-linearity in 1st hidden layer\n",
        "        out = self.relu_5(out)\n",
        "        \n",
        "        ### 6th hidden layer\n",
        "        out  = self.linear_6(out)\n",
        "        ### Non-linearity in 2nd hidden layer\n",
        "        out = self.relu_6(out)\n",
        "     \n",
        "        # Linear layer (output)\n",
        "        probas  = self.linear_out(out)\n",
        "        return probas\n",
        "\n",
        "\n",
        "# INSTANTIATE MODEL CLASS\n",
        "\n",
        "model = DeepNeuralNetworkModel(input_size = input_dim,\n",
        "                               num_classes = output_dim,\n",
        "                               num_hidden = num_hidden)\n",
        "# To enable GPU\n",
        "model.to(device)\n",
        "\n",
        "# INSTANTIATE LOSS & OPTIMIZER CLASS\n",
        "\n",
        "criterion = nn.CrossEntropyLoss()\n",
        "optimizer = torch.optim.SGD(model.parameters(), lr=learning_rate)\n",
        "iteration_loss= []\n",
        "iter = 0\n",
        "for epoch in range(num_epochs):\n",
        "    for i, (images, labels) in enumerate(train_loader):\n",
        "\n",
        "        images = images.view(-1, 28*28).to(device)\n",
        "        labels = labels.to(device)\n",
        "\n",
        "        # Clear gradients w.r.t. parameters\n",
        "        optimizer.zero_grad()\n",
        "\n",
        "        # Forward pass to get output/logits\n",
        "        outputs = model(images) \n",
        "\n",
        "        # Calculate Loss: softmax --> cross entropy loss\n",
        "        loss = criterion(outputs, labels)\n",
        "\n",
        "        # Getting gradients w.r.t. parameters\n",
        "        loss.backward()\n",
        "\n",
        "        # Updating parameters\n",
        "        optimizer.step()\n",
        "\n",
        "        iter += 1\n",
        "\n",
        "        if iter % 500 == 0:\n",
        "            # Calculate Accuracy         \n",
        "            correct = 0\n",
        "            total = 0\n",
        "            # Iterate through test dataset\n",
        "            for images, labels in test_loader:\n",
        "               \n",
        "                images = images.view(-1, 28*28).to(device)\n",
        "\n",
        "                # Forward pass only to get logits/output\n",
        "                outputs = model(images)\n",
        "\n",
        "                # Get predictions from the maximum value\n",
        "                _, predicted = torch.max(outputs, 1)\n",
        "\n",
        "                # Total number of labels\n",
        "                total += labels.size(0)\n",
        "\n",
        "\n",
        "                # Total correct predictions\n",
        "                if torch.cuda.is_available():\n",
        "                    correct += (predicted.cpu() == labels.cpu()).sum() \n",
        "                else:\n",
        "                    correct += (predicted == labels).sum()\n",
        "\n",
        "            accuracy = 100 * correct.item() / total\n",
        "\n",
        "            # Print Loss\n",
        "            iteration_loss.append(loss.item())\n",
        "            print('Iteration: {}. Loss: {}. Accuracy: {}'.format(iter, loss.item(), accuracy))"
      ],
      "execution_count": 10,
      "outputs": [
        {
          "output_type": "stream",
          "name": "stdout",
          "text": [
            "Iteration: 500. Loss: 0.593130886554718. Accuracy: 78.38\n",
            "Iteration: 1000. Loss: 0.4449611306190491. Accuracy: 79.84\n",
            "Iteration: 1500. Loss: 0.2257826328277588. Accuracy: 82.92\n",
            "Iteration: 2000. Loss: 0.268472820520401. Accuracy: 81.42\n",
            "Iteration: 2500. Loss: 0.3259049654006958. Accuracy: 81.77\n",
            "Iteration: 3000. Loss: 0.33485281467437744. Accuracy: 84.38\n",
            "Iteration: 3500. Loss: 0.40495747327804565. Accuracy: 83.15\n",
            "Iteration: 4000. Loss: 0.3558547794818878. Accuracy: 86.11\n",
            "Iteration: 4500. Loss: 0.598536491394043. Accuracy: 85.12\n",
            "Iteration: 5000. Loss: 0.2590518593788147. Accuracy: 85.2\n",
            "Iteration: 5500. Loss: 0.5145326852798462. Accuracy: 85.3\n",
            "Iteration: 6000. Loss: 0.388575941324234. Accuracy: 85.88\n",
            "Iteration: 6500. Loss: 0.2146158665418625. Accuracy: 85.88\n",
            "Iteration: 7000. Loss: 0.2953919470310211. Accuracy: 86.8\n",
            "Iteration: 7500. Loss: 0.29114001989364624. Accuracy: 86.47\n",
            "Iteration: 8000. Loss: 0.17398060858249664. Accuracy: 86.35\n",
            "Iteration: 8500. Loss: 0.17512279748916626. Accuracy: 85.74\n",
            "Iteration: 9000. Loss: 0.16812309622764587. Accuracy: 85.88\n",
            "Iteration: 9500. Loss: 0.2871745228767395. Accuracy: 87.43\n",
            "Iteration: 10000. Loss: 0.22937467694282532. Accuracy: 86.86\n",
            "Iteration: 10500. Loss: 0.45311570167541504. Accuracy: 87.34\n",
            "Iteration: 11000. Loss: 0.42631620168685913. Accuracy: 87.68\n",
            "Iteration: 11500. Loss: 0.16077198088169098. Accuracy: 86.92\n",
            "Iteration: 12000. Loss: 0.15035195648670197. Accuracy: 87.58\n",
            "Iteration: 12500. Loss: 0.16219362616539001. Accuracy: 87.72\n",
            "Iteration: 13000. Loss: 0.33175310492515564. Accuracy: 85.97\n",
            "Iteration: 13500. Loss: 0.21736273169517517. Accuracy: 86.85\n",
            "Iteration: 14000. Loss: 0.20331887900829315. Accuracy: 88.1\n",
            "Iteration: 14500. Loss: 0.3933936357498169. Accuracy: 87.67\n",
            "Iteration: 15000. Loss: 0.20640234649181366. Accuracy: 87.09\n",
            "Iteration: 15500. Loss: 0.2725418508052826. Accuracy: 88.16\n",
            "Iteration: 16000. Loss: 0.37533533573150635. Accuracy: 87.81\n",
            "Iteration: 16500. Loss: 0.7888023257255554. Accuracy: 87.53\n",
            "Iteration: 17000. Loss: 0.34924283623695374. Accuracy: 87.57\n",
            "Iteration: 17500. Loss: 0.4159635901451111. Accuracy: 87.38\n",
            "Iteration: 18000. Loss: 0.0650215893983841. Accuracy: 88.31\n"
          ]
        }
      ]
    },
    {
      "cell_type": "code",
      "metadata": {
        "colab": {
          "base_uri": "https://localhost:8080/",
          "height": 316
        },
        "id": "Egeoid1fNCBc",
        "outputId": "74553003-e6a7-421e-dfa1-d38749bf7097"
      },
      "source": [
        "import matplotlib\n",
        "import matplotlib.pyplot as plt\n",
        "\n",
        "print (iteration_loss)\n",
        "plt.plot(iteration_loss)\n",
        "plt.ylabel('Loss')\n",
        "plt.xlabel('Iteration (in every 500)')\n",
        "plt.show()"
      ],
      "execution_count": 11,
      "outputs": [
        {
          "output_type": "stream",
          "name": "stdout",
          "text": [
            "[0.593130886554718, 0.4449611306190491, 0.2257826328277588, 0.268472820520401, 0.3259049654006958, 0.33485281467437744, 0.40495747327804565, 0.3558547794818878, 0.598536491394043, 0.2590518593788147, 0.5145326852798462, 0.388575941324234, 0.2146158665418625, 0.2953919470310211, 0.29114001989364624, 0.17398060858249664, 0.17512279748916626, 0.16812309622764587, 0.2871745228767395, 0.22937467694282532, 0.45311570167541504, 0.42631620168685913, 0.16077198088169098, 0.15035195648670197, 0.16219362616539001, 0.33175310492515564, 0.21736273169517517, 0.20331887900829315, 0.3933936357498169, 0.20640234649181366, 0.2725418508052826, 0.37533533573150635, 0.7888023257255554, 0.34924283623695374, 0.4159635901451111, 0.0650215893983841]\n"
          ]
        },
        {
          "output_type": "display_data",
          "data": {
            "image/png": "[encoded data removed]",
            "text/plain": [
              "<Figure size 432x288 with 1 Axes>"
            ]
          },
          "metadata": {
            "needs_background": "light"
          }
        }
      ]
    },
    {
      "cell_type": "code",
      "metadata": {
        "id": "elXhZZXaQRR_"
      },
      "source": [
        ""
      ],
      "execution_count": null,
      "outputs": []
    },
    {
      "cell_type": "markdown",
      "metadata": {
        "id": "EYDq9VlyQas5"
      },
      "source": [
        "For experiment 2"
      ]
    },
    {
      "cell_type": "code",
      "metadata": {
        "colab": {
          "base_uri": "https://localhost:8080/"
        },
        "id": "MjVggKBIQsiB",
        "outputId": "41d451ac-c4fe-481e-ebe5-696ebf1f6fbb"
      },
      "source": [
        "# Hyperparameters\n",
        "\n",
        "batch_size = 80\n",
        "num_iters = 80000\n",
        "input_dim = 28*28 # num_features = 784\n",
        "num_hidden = 500 # num of hidden nodes\n",
        "output_dim = 10\n",
        "\n",
        "learning_rate = 0.01  # More power so we can learn faster! previously it was 0.001\n",
        "\n",
        "# Device\n",
        "device = torch.device(\"cuda:0\" if torch.cuda.is_available() else \"cpu\")\n",
        "\n",
        "\n",
        "'''\n",
        "MAKING DATASET ITERABLE\n",
        "'''\n",
        "num_epochs = num_iters / (len(train_set) / batch_size)\n",
        "num_epochs = int(num_epochs)\n",
        "\n",
        "train_loader = torch.utils.data.DataLoader(dataset=train_set, \n",
        "                                           batch_size=batch_size, \n",
        "                                           shuffle=True)   # It's better to shuffle the whole training dataset! \n",
        "\n",
        "test_loader = torch.utils.data.DataLoader(dataset=test_set, \n",
        "                                          batch_size=batch_size, \n",
        "                                          shuffle=False)  \n",
        "\n",
        "class DeepNeuralNetworkModel(nn.Module):\n",
        "    def __init__(self, input_size, num_classes, num_hidden):\n",
        "        super().__init__()\n",
        "        ### 1st hidden layer: 784 --> 100\n",
        "        self.linear_1 = nn.Linear(input_size, num_hidden)\n",
        "        ### Non-linearity in 1st hidden layer\n",
        "        self.relu_1 = nn.ReLU()\n",
        "\n",
        "        ### 2nd hidden layer: 100 --> 100\n",
        "        self.linear_2 = nn.Linear(num_hidden, num_hidden)\n",
        "        ### Non-linearity in 2nd hidden layer\n",
        "        self.relu_2 = nn.ReLU()\n",
        "\n",
        "        ### 3rd hidden layer: 100 --> 100\n",
        "        self.linear_3 = nn.Linear(num_hidden, num_hidden)\n",
        "        ### Non-linearity in 3rd hidden layer\n",
        "        self.relu_3 = nn.ReLU()\n",
        "\n",
        "        ### 4th hidden layer: 100 --> 100\n",
        "        self.linear_4 = nn.Linear(num_hidden, num_hidden)\n",
        "        ### Non-linearity in 4th hidden layer\n",
        "        self.relu_4 = nn.ReLU()\n",
        "\n",
        "        ### 5th hidden layer: 100 --> 100\n",
        "        self.linear_5 = nn.Linear(num_hidden, num_hidden)\n",
        "        ### Non-linearity in 5th hidden layer\n",
        "        self.relu_5 = nn.ReLU()\n",
        "\n",
        "        ### 6th hidden layer: 100 --> 100\n",
        "        self.linear_6 = nn.Linear(num_hidden, num_hidden)\n",
        "        ### Non-linearity in 6th hidden layer\n",
        "        self.relu_6 = nn.ReLU()\n",
        "\n",
        "        ### Output layer: 100 --> 10\n",
        "        self.linear_out = nn.Linear(num_hidden, num_classes)\n",
        "\n",
        "    def forward(self, x):\n",
        "        ### 1st hidden layer\n",
        "        out  = self.linear_1(x)\n",
        "        ### Non-linearity in 1st hidden layer\n",
        "        out = self.relu_1(out)\n",
        "        \n",
        "        ### 2nd hidden layer\n",
        "        out  = self.linear_2(out)\n",
        "        ### Non-linearity in 2nd hidden layer\n",
        "        out = self.relu_2(out)\n",
        "        \n",
        "        ### 3rd hidden layer\n",
        "        out  = self.linear_3(out)\n",
        "        ### Non-linearity in 1st hidden layer\n",
        "        out = self.relu_3(out)\n",
        "\n",
        "         ### 4rd hidden layer\n",
        "        out  = self.linear_4(out)\n",
        "        ### Non-linearity in 1st hidden layer\n",
        "        out = self.relu_4(out)\n",
        "\n",
        "      ### 5rd hidden layer\n",
        "        out  = self.linear_5(out)\n",
        "        ### Non-linearity in 1st hidden layer\n",
        "        out = self.relu_5(out)\n",
        "\n",
        "      ### 6rd hidden layer\n",
        "        out  = self.linear_6(out)\n",
        "        ### Non-linearity in 1st hidden layer\n",
        "        out = self.relu_6(out)\n",
        "      \n",
        "        # Linear layer (output)\n",
        "        probas  = self.linear_out(out)\n",
        "        return probas\n",
        "\n",
        "\n",
        "# INSTANTIATE MODEL CLASS\n",
        "\n",
        "model = DeepNeuralNetworkModel(input_size = input_dim,\n",
        "                               num_classes = output_dim,\n",
        "                               num_hidden = num_hidden)\n",
        "# To enable GPU\n",
        "model.to(device)\n",
        "\n",
        "# INSTANTIATE LOSS & OPTIMIZER CLASS\n",
        "\n",
        "criterion = nn.CrossEntropyLoss()\n",
        "optimizer = torch.optim.SGD(model.parameters(), lr=learning_rate)\n",
        "\n",
        "iteration_loss = []\n",
        "iter = 0\n",
        "for epoch in range(num_epochs):\n",
        "    for i, (images, labels) in enumerate(train_loader):\n",
        "\n",
        "        images = images.view(-1, 28*28).to(device)\n",
        "        labels = labels.to(device)\n",
        "\n",
        "        # Clear gradients w.r.t. parameters\n",
        "        optimizer.zero_grad()\n",
        "\n",
        "        # Forward pass to get output/logits\n",
        "        outputs = model(images) \n",
        "\n",
        "        # Calculate Loss: softmax --> cross entropy loss\n",
        "        loss = criterion(outputs, labels)\n",
        "\n",
        "        # Getting gradients w.r.t. parameters\n",
        "        loss.backward()\n",
        "\n",
        "        # Updating parameters\n",
        "        optimizer.step()\n",
        "\n",
        "        iter += 1\n",
        "\n",
        "        if iter % 500 == 0:\n",
        "            # Calculate Accuracy         \n",
        "            correct = 0\n",
        "            total = 0\n",
        "            # Iterate through test dataset\n",
        "            for images, labels in test_loader:\n",
        "               \n",
        "                images = images.view(-1, 28*28).to(device)\n",
        "\n",
        "                # Forward pass only to get logits/output\n",
        "                outputs = model(images)\n",
        "\n",
        "                # Get predictions from the maximum value\n",
        "                _, predicted = torch.max(outputs, 1)\n",
        "\n",
        "                # Total number of labels\n",
        "                total += labels.size(0)\n",
        "\n",
        "\n",
        "                # Total correct predictions\n",
        "                if torch.cuda.is_available():\n",
        "                    correct += (predicted.cpu() == labels.cpu()).sum() \n",
        "                else:\n",
        "                    correct += (predicted == labels).sum()\n",
        "\n",
        "            accuracy = 100 * correct.item() / total\n",
        "\n",
        "            # Print Loss\n",
        "            iteration_loss.append(loss.item())\n",
        "            print('Iteration: {}. Loss: {}. Accuracy: {}'.format(iter, loss.item(), accuracy))\n"
      ],
      "execution_count": 12,
      "outputs": [
        {
          "output_type": "stream",
          "name": "stdout",
          "text": [
            "Iteration: 500. Loss: 0.43809646368026733. Accuracy: 83.0\n",
            "Iteration: 1000. Loss: 0.47201862931251526. Accuracy: 82.98\n",
            "Iteration: 1500. Loss: 0.27757591009140015. Accuracy: 84.37\n",
            "Iteration: 2000. Loss: 0.3567868173122406. Accuracy: 85.6\n",
            "Iteration: 2500. Loss: 0.30652302503585815. Accuracy: 87.56\n",
            "Iteration: 3000. Loss: 0.23119381070137024. Accuracy: 87.26\n",
            "Iteration: 3500. Loss: 0.3679119050502777. Accuracy: 86.82\n",
            "Iteration: 4000. Loss: 0.23765721917152405. Accuracy: 88.05\n",
            "Iteration: 4500. Loss: 0.2724456191062927. Accuracy: 88.3\n",
            "Iteration: 5000. Loss: 0.26346445083618164. Accuracy: 87.41\n",
            "Iteration: 5500. Loss: 0.31706130504608154. Accuracy: 88.38\n",
            "Iteration: 6000. Loss: 0.1620979607105255. Accuracy: 88.64\n",
            "Iteration: 6500. Loss: 0.25913581252098083. Accuracy: 88.99\n",
            "Iteration: 7000. Loss: 0.3304555118083954. Accuracy: 88.21\n",
            "Iteration: 7500. Loss: 0.17119494080543518. Accuracy: 89.37\n",
            "Iteration: 8000. Loss: 0.1664924919605255. Accuracy: 88.59\n",
            "Iteration: 8500. Loss: 0.13201841711997986. Accuracy: 89.3\n",
            "Iteration: 9000. Loss: 0.08288321644067764. Accuracy: 88.8\n",
            "Iteration: 9500. Loss: 0.3072502315044403. Accuracy: 88.61\n",
            "Iteration: 10000. Loss: 0.1288340985774994. Accuracy: 89.05\n",
            "Iteration: 10500. Loss: 0.30325400829315186. Accuracy: 89.4\n",
            "Iteration: 11000. Loss: 0.17412249743938446. Accuracy: 89.05\n",
            "Iteration: 11500. Loss: 0.255376935005188. Accuracy: 89.24\n",
            "Iteration: 12000. Loss: 0.2932339012622833. Accuracy: 89.69\n",
            "Iteration: 12500. Loss: 0.22125153243541718. Accuracy: 90.2\n",
            "Iteration: 13000. Loss: 0.20208171010017395. Accuracy: 89.96\n",
            "Iteration: 13500. Loss: 0.31427162885665894. Accuracy: 88.65\n",
            "Iteration: 14000. Loss: 0.22045953571796417. Accuracy: 89.41\n",
            "Iteration: 14500. Loss: 0.12089965492486954. Accuracy: 89.22\n",
            "Iteration: 15000. Loss: 0.08042921870946884. Accuracy: 89.7\n",
            "Iteration: 15500. Loss: 0.11178173124790192. Accuracy: 89.77\n",
            "Iteration: 16000. Loss: 0.12666550278663635. Accuracy: 89.98\n",
            "Iteration: 16500. Loss: 0.20408478379249573. Accuracy: 89.58\n",
            "Iteration: 17000. Loss: 0.17867903411388397. Accuracy: 89.61\n",
            "Iteration: 17500. Loss: 0.18980957567691803. Accuracy: 89.66\n",
            "Iteration: 18000. Loss: 0.18978554010391235. Accuracy: 89.51\n",
            "Iteration: 18500. Loss: 0.10661612451076508. Accuracy: 89.9\n",
            "Iteration: 19000. Loss: 0.14049552381038666. Accuracy: 90.69\n",
            "Iteration: 19500. Loss: 0.09613128006458282. Accuracy: 89.52\n",
            "Iteration: 20000. Loss: 0.17780663073062897. Accuracy: 89.78\n",
            "Iteration: 20500. Loss: 0.1339149922132492. Accuracy: 90.22\n",
            "Iteration: 21000. Loss: 0.13660697638988495. Accuracy: 90.27\n",
            "Iteration: 21500. Loss: 0.17640894651412964. Accuracy: 88.75\n",
            "Iteration: 22000. Loss: 0.09913339465856552. Accuracy: 88.98\n",
            "Iteration: 22500. Loss: 0.03955335542559624. Accuracy: 90.1\n",
            "Iteration: 23000. Loss: 0.0535198338329792. Accuracy: 89.55\n",
            "Iteration: 23500. Loss: 0.21226179599761963. Accuracy: 88.92\n",
            "Iteration: 24000. Loss: 0.0970354974269867. Accuracy: 89.64\n",
            "Iteration: 24500. Loss: 0.047709785401821136. Accuracy: 90.09\n",
            "Iteration: 25000. Loss: 0.04623611643910408. Accuracy: 90.16\n",
            "Iteration: 25500. Loss: 0.13041968643665314. Accuracy: 89.42\n",
            "Iteration: 26000. Loss: 0.08398214727640152. Accuracy: 89.99\n",
            "Iteration: 26500. Loss: 0.058758459985256195. Accuracy: 90.03\n",
            "Iteration: 27000. Loss: 0.10460933297872543. Accuracy: 89.69\n",
            "Iteration: 27500. Loss: 0.2011444866657257. Accuracy: 89.86\n",
            "Iteration: 28000. Loss: 0.1401984840631485. Accuracy: 89.36\n",
            "Iteration: 28500. Loss: 0.037642911076545715. Accuracy: 89.8\n",
            "Iteration: 29000. Loss: 0.07889707386493683. Accuracy: 89.73\n",
            "Iteration: 29500. Loss: 0.1670038104057312. Accuracy: 89.48\n",
            "Iteration: 30000. Loss: 0.06586655229330063. Accuracy: 89.92\n",
            "Iteration: 30500. Loss: 0.046079132705926895. Accuracy: 89.9\n",
            "Iteration: 31000. Loss: 0.022020678967237473. Accuracy: 90.3\n",
            "Iteration: 31500. Loss: 0.04601333290338516. Accuracy: 90.19\n",
            "Iteration: 32000. Loss: 0.03254057094454765. Accuracy: 90.38\n",
            "Iteration: 32500. Loss: 0.1126086488366127. Accuracy: 90.51\n",
            "Iteration: 33000. Loss: 0.24332699179649353. Accuracy: 89.13\n",
            "Iteration: 33500. Loss: 0.11530452966690063. Accuracy: 90.25\n",
            "Iteration: 34000. Loss: 0.0357479527592659. Accuracy: 90.14\n",
            "Iteration: 34500. Loss: 0.07776523381471634. Accuracy: 90.66\n",
            "Iteration: 35000. Loss: 0.04415147006511688. Accuracy: 89.92\n",
            "Iteration: 35500. Loss: 0.05263407900929451. Accuracy: 90.29\n",
            "Iteration: 36000. Loss: 0.06606024503707886. Accuracy: 89.95\n",
            "Iteration: 36500. Loss: 0.14564891159534454. Accuracy: 89.44\n",
            "Iteration: 37000. Loss: 0.009752998128533363. Accuracy: 90.58\n",
            "Iteration: 37500. Loss: 0.0779995247721672. Accuracy: 89.47\n",
            "Iteration: 38000. Loss: 0.10266034305095673. Accuracy: 90.06\n",
            "Iteration: 38500. Loss: 0.07861459255218506. Accuracy: 90.02\n",
            "Iteration: 39000. Loss: 0.24098530411720276. Accuracy: 88.52\n",
            "Iteration: 39500. Loss: 0.02769002877175808. Accuracy: 90.04\n",
            "Iteration: 40000. Loss: 0.03379296511411667. Accuracy: 90.55\n",
            "Iteration: 40500. Loss: 0.05961944907903671. Accuracy: 90.2\n",
            "Iteration: 41000. Loss: 0.055208802223205566. Accuracy: 90.28\n",
            "Iteration: 41500. Loss: 0.08774071931838989. Accuracy: 89.85\n",
            "Iteration: 42000. Loss: 0.035742439329624176. Accuracy: 90.62\n",
            "Iteration: 42500. Loss: 0.015169741585850716. Accuracy: 90.7\n",
            "Iteration: 43000. Loss: 0.07050355523824692. Accuracy: 89.65\n",
            "Iteration: 43500. Loss: 0.00937875360250473. Accuracy: 90.65\n",
            "Iteration: 44000. Loss: 0.013306860812008381. Accuracy: 90.19\n",
            "Iteration: 44500. Loss: 0.04635252431035042. Accuracy: 90.14\n",
            "Iteration: 45000. Loss: 0.017623353749513626. Accuracy: 90.21\n",
            "Iteration: 45500. Loss: 0.10006487369537354. Accuracy: 89.03\n",
            "Iteration: 46000. Loss: 0.021937226876616478. Accuracy: 90.18\n",
            "Iteration: 46500. Loss: 0.05211421847343445. Accuracy: 89.41\n",
            "Iteration: 47000. Loss: 0.005725081078708172. Accuracy: 90.72\n",
            "Iteration: 47500. Loss: 0.04273337870836258. Accuracy: 90.37\n",
            "Iteration: 48000. Loss: 0.007120584137737751. Accuracy: 90.45\n",
            "Iteration: 48500. Loss: 0.03262721747159958. Accuracy: 90.31\n",
            "Iteration: 49000. Loss: 0.006369395647197962. Accuracy: 90.73\n",
            "Iteration: 49500. Loss: 0.004278870765119791. Accuracy: 90.58\n",
            "Iteration: 50000. Loss: 0.08229725062847137. Accuracy: 89.97\n",
            "Iteration: 50500. Loss: 0.052713703364133835. Accuracy: 90.56\n",
            "Iteration: 51000. Loss: 0.01263817586004734. Accuracy: 89.96\n",
            "Iteration: 51500. Loss: 0.004596483428031206. Accuracy: 90.1\n",
            "Iteration: 52000. Loss: 0.011050710454583168. Accuracy: 90.56\n",
            "Iteration: 52500. Loss: 0.0037931217812001705. Accuracy: 90.55\n",
            "Iteration: 53000. Loss: 0.05302884429693222. Accuracy: 90.04\n",
            "Iteration: 53500. Loss: 0.04631366580724716. Accuracy: 89.91\n",
            "Iteration: 54000. Loss: 0.011311354115605354. Accuracy: 90.31\n",
            "Iteration: 54500. Loss: 0.03792553022503853. Accuracy: 90.62\n",
            "Iteration: 55000. Loss: 0.010142632760107517. Accuracy: 90.36\n",
            "Iteration: 55500. Loss: 0.06832428276538849. Accuracy: 90.18\n",
            "Iteration: 56000. Loss: 0.007636458612978458. Accuracy: 90.58\n",
            "Iteration: 56500. Loss: 0.003514564363285899. Accuracy: 90.77\n",
            "Iteration: 57000. Loss: 0.0533464141190052. Accuracy: 90.09\n",
            "Iteration: 57500. Loss: 0.10994639247655869. Accuracy: 89.34\n",
            "Iteration: 58000. Loss: 0.009978225454688072. Accuracy: 90.11\n",
            "Iteration: 58500. Loss: 0.007286661304533482. Accuracy: 90.12\n",
            "Iteration: 59000. Loss: 0.004049468785524368. Accuracy: 90.67\n",
            "Iteration: 59500. Loss: 0.01881229877471924. Accuracy: 89.86\n",
            "Iteration: 60000. Loss: 0.0071855648420751095. Accuracy: 90.4\n",
            "Iteration: 60500. Loss: 0.009669105522334576. Accuracy: 90.81\n",
            "Iteration: 61000. Loss: 0.0036676328163594007. Accuracy: 90.99\n",
            "Iteration: 61500. Loss: 0.0015667967963963747. Accuracy: 90.47\n",
            "Iteration: 62000. Loss: 0.02984500490128994. Accuracy: 90.35\n",
            "Iteration: 62500. Loss: 0.008632760494947433. Accuracy: 90.55\n",
            "Iteration: 63000. Loss: 0.005764281377196312. Accuracy: 90.72\n",
            "Iteration: 63500. Loss: 0.0026039353106170893. Accuracy: 90.57\n",
            "Iteration: 64000. Loss: 0.05212705209851265. Accuracy: 90.38\n",
            "Iteration: 64500. Loss: 0.00030446689925156534. Accuracy: 90.79\n",
            "Iteration: 65000. Loss: 0.006137302611023188. Accuracy: 90.45\n",
            "Iteration: 65500. Loss: 0.014289332553744316. Accuracy: 89.94\n",
            "Iteration: 66000. Loss: 0.00438280776143074. Accuracy: 90.74\n",
            "Iteration: 66500. Loss: 0.0016510151326656342. Accuracy: 90.77\n",
            "Iteration: 67000. Loss: 0.0010856325970962644. Accuracy: 90.82\n",
            "Iteration: 67500. Loss: 0.0004603225679602474. Accuracy: 90.92\n",
            "Iteration: 68000. Loss: 0.0008018601802177727. Accuracy: 90.8\n",
            "Iteration: 68500. Loss: 8.886939758667722e-05. Accuracy: 90.92\n",
            "Iteration: 69000. Loss: 0.00017387562547810376. Accuracy: 91.02\n",
            "Iteration: 69500. Loss: 0.00040573105798102915. Accuracy: 91.0\n",
            "Iteration: 70000. Loss: 1.0417507837701123e-05. Accuracy: 91.05\n",
            "Iteration: 70500. Loss: 8.506758604198694e-05. Accuracy: 91.0\n",
            "Iteration: 71000. Loss: 2.945460073533468e-05. Accuracy: 91.07\n",
            "Iteration: 71500. Loss: 2.701472294575069e-05. Accuracy: 91.04\n",
            "Iteration: 72000. Loss: 0.00029937876388430595. Accuracy: 91.05\n",
            "Iteration: 72500. Loss: 3.6276018363423645e-05. Accuracy: 91.03\n",
            "Iteration: 73000. Loss: 9.928845247486606e-05. Accuracy: 91.08\n",
            "Iteration: 73500. Loss: 0.00011529532639542595. Accuracy: 91.07\n",
            "Iteration: 74000. Loss: 4.096076008863747e-05. Accuracy: 91.04\n",
            "Iteration: 74500. Loss: 9.36580472625792e-05. Accuracy: 91.09\n",
            "Iteration: 75000. Loss: 3.0213792342692614e-05. Accuracy: 91.08\n",
            "Iteration: 75500. Loss: 9.183990187011659e-05. Accuracy: 91.13\n",
            "Iteration: 76000. Loss: 6.545198993990198e-05. Accuracy: 91.12\n",
            "Iteration: 76500. Loss: 5.74494079046417e-05. Accuracy: 91.12\n",
            "Iteration: 77000. Loss: 4.537976928986609e-05. Accuracy: 91.17\n",
            "Iteration: 77500. Loss: 8.660471939947456e-05. Accuracy: 91.13\n",
            "Iteration: 78000. Loss: 0.00013434913125820458. Accuracy: 91.16\n",
            "Iteration: 78500. Loss: 7.544418622273952e-05. Accuracy: 91.17\n",
            "Iteration: 79000. Loss: 1.2093504665244836e-05. Accuracy: 91.19\n",
            "Iteration: 79500. Loss: 3.210814611520618e-05. Accuracy: 91.18\n"
          ]
        }
      ]
    },
    {
      "cell_type": "code",
      "metadata": {
        "colab": {
          "base_uri": "https://localhost:8080/",
          "height": 316
        },
        "id": "sRwHUTSiRARF",
        "outputId": "ac811435-ec74-4b38-fb51-227a8b3684a7"
      },
      "source": [
        "import matplotlib\n",
        "import matplotlib.pyplot as plt\n",
        "\n",
        "print (iteration_loss)\n",
        "plt.plot(iteration_loss)\n",
        "plt.ylabel('Loss')\n",
        "plt.xlabel('Iteration (in every 500)')\n",
        "plt.show()"
      ],
      "execution_count": 13,
      "outputs": [
        {
          "output_type": "stream",
          "name": "stdout",
          "text": [
            "[0.43809646368026733, 0.47201862931251526, 0.27757591009140015, 0.3567868173122406, 0.30652302503585815, 0.23119381070137024, 0.3679119050502777, 0.23765721917152405, 0.2724456191062927, 0.26346445083618164, 0.31706130504608154, 0.1620979607105255, 0.25913581252098083, 0.3304555118083954, 0.17119494080543518, 0.1664924919605255, 0.13201841711997986, 0.08288321644067764, 0.3072502315044403, 0.1288340985774994, 0.30325400829315186, 0.17412249743938446, 0.255376935005188, 0.2932339012622833, 0.22125153243541718, 0.20208171010017395, 0.31427162885665894, 0.22045953571796417, 0.12089965492486954, 0.08042921870946884, 0.11178173124790192, 0.12666550278663635, 0.20408478379249573, 0.17867903411388397, 0.18980957567691803, 0.18978554010391235, 0.10661612451076508, 0.14049552381038666, 0.09613128006458282, 0.17780663073062897, 0.1339149922132492, 0.13660697638988495, 0.17640894651412964, 0.09913339465856552, 0.03955335542559624, 0.0535198338329792, 0.21226179599761963, 0.0970354974269867, 0.047709785401821136, 0.04623611643910408, 0.13041968643665314, 0.08398214727640152, 0.058758459985256195, 0.10460933297872543, 0.2011444866657257, 0.1401984840631485, 0.037642911076545715, 0.07889707386493683, 0.1670038104057312, 0.06586655229330063, 0.046079132705926895, 0.022020678967237473, 0.04601333290338516, 0.03254057094454765, 0.1126086488366127, 0.24332699179649353, 0.11530452966690063, 0.0357479527592659, 0.07776523381471634, 0.04415147006511688, 0.05263407900929451, 0.06606024503707886, 0.14564891159534454, 0.009752998128533363, 0.0779995247721672, 0.10266034305095673, 0.07861459255218506, 0.24098530411720276, 0.02769002877175808, 0.03379296511411667, 0.05961944907903671, 0.055208802223205566, 0.08774071931838989, 0.035742439329624176, 0.015169741585850716, 0.07050355523824692, 0.00937875360250473, 0.013306860812008381, 0.04635252431035042, 0.017623353749513626, 0.10006487369537354, 0.021937226876616478, 0.05211421847343445, 0.005725081078708172, 0.04273337870836258, 0.007120584137737751, 0.03262721747159958, 0.006369395647197962, 0.004278870765119791, 0.08229725062847137, 0.052713703364133835, 0.01263817586004734, 0.004596483428031206, 0.011050710454583168, 0.0037931217812001705, 0.05302884429693222, 0.04631366580724716, 0.011311354115605354, 0.03792553022503853, 0.010142632760107517, 0.06832428276538849, 0.007636458612978458, 0.003514564363285899, 0.0533464141190052, 0.10994639247655869, 0.009978225454688072, 0.007286661304533482, 0.004049468785524368, 0.01881229877471924, 0.0071855648420751095, 0.009669105522334576, 0.0036676328163594007, 0.0015667967963963747, 0.02984500490128994, 0.008632760494947433, 0.005764281377196312, 0.0026039353106170893, 0.05212705209851265, 0.00030446689925156534, 0.006137302611023188, 0.014289332553744316, 0.00438280776143074, 0.0016510151326656342, 0.0010856325970962644, 0.0004603225679602474, 0.0008018601802177727, 8.886939758667722e-05, 0.00017387562547810376, 0.00040573105798102915, 1.0417507837701123e-05, 8.506758604198694e-05, 2.945460073533468e-05, 2.701472294575069e-05, 0.00029937876388430595, 3.6276018363423645e-05, 9.928845247486606e-05, 0.00011529532639542595, 4.096076008863747e-05, 9.36580472625792e-05, 3.0213792342692614e-05, 9.183990187011659e-05, 6.545198993990198e-05, 5.74494079046417e-05, 4.537976928986609e-05, 8.660471939947456e-05, 0.00013434913125820458, 7.544418622273952e-05, 1.2093504665244836e-05, 3.210814611520618e-05]\n"
          ]
        },
        {
          "output_type": "display_data",
          "data": {
            "image/png": "[encoded data removed]",
            "text/plain": [
              "<Figure size 432x288 with 1 Axes>"
            ]
          },
          "metadata": {
            "needs_background": "light"
          }
        }
      ]
    },
    {
      "cell_type": "code",
      "metadata": {
        "id": "nPuF3fuNVaRQ"
      },
      "source": [
        ""
      ],
      "execution_count": null,
      "outputs": []
    }
  ]
}